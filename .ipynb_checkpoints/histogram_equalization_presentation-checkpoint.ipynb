{
 "cells": [
  {
   "cell_type": "markdown",
   "metadata": {},
   "source": [
    "# Processamento Digital de Imagens - 2020.6\n",
    "\n",
    "## Histogram Equalization\n",
    "\n",
    "### Author: Lucas Ismael Campos Medeiros"
   ]
  },
  {
   "cell_type": "markdown",
   "metadata": {},
   "source": [
    "### Importing packages and initializing functions:"
   ]
  },
  {
   "cell_type": "code",
   "execution_count": 2,
   "metadata": {},
   "outputs": [],
   "source": [
    "import subprocess, os\n",
    "import numpy as np\n",
    "import matplotlib.pyplot as plt\n",
    "\n",
    "def my_readimage(path):\n",
    "    file = open(path, 'r')\n",
    "\n",
    "    read_header = file.readline()\n",
    "    read_wh = file.readline()\n",
    "    aux0 = read_wh.split()\n",
    "    columns = int(aux0[0])\n",
    "    rows = int(aux0[1])\n",
    "    max_intensity = file.readline()\n",
    "\n",
    "\n",
    "    aux = file.read().split()\n",
    "    aux_matrix = np.reshape(aux,(rows, columns))\n",
    "    intensity_matrix = np.zeros((rows, columns), int)\n",
    "\n",
    "    for i in range(rows):\n",
    "        for j in range(columns):\n",
    "            intensity_matrix[i][j] = int(aux_matrix[i][j])\n",
    "    return read_header, rows, columns, max_intensity, intensity_matrix\n",
    "\n",
    "def my_writeimage():\n",
    "    print('Saving new file: \\n')\n",
    "    file_name = input('Output filename:')+'.pgm'\n",
    "    with open(file_name, 'w') as saida:\n",
    "        saida.write(str(header))\n",
    "        saida.write(str(columns) + ' ' + str(rows) + '\\n')\n",
    "        saida.write(str(max_intensity))\n",
    "        np.savetxt(saida, new_matrix, delimiter=' ', newline='\\n', header='', footer='', comments='# ', fmt='%i')\n",
    "        "
   ]
  },
  {
   "cell_type": "markdown",
   "metadata": {},
   "source": [
    "### Selecting and reading image file:"
   ]
  },
  {
   "cell_type": "code",
   "execution_count": 3,
   "metadata": {},
   "outputs": [
    {
     "name": "stdout",
     "output_type": "stream",
     "text": [
      "Select an image: \n",
      "\n",
      "Selected input(.pgm):Lena\n"
     ]
    }
   ],
   "source": [
    "print('Select an image: \\n')\n",
    "header, rows, columns, max_intensity, matrix = my_readimage(r'C:/Users/Lucas Ismael/Documents/PDI_2020/images/'+input('Selected input(.pgm):')+'.pgm')"
   ]
  },
  {
   "cell_type": "markdown",
   "metadata": {},
   "source": [
    "### Processing parameters:"
   ]
  },
  {
   "cell_type": "code",
   "execution_count": 4,
   "metadata": {},
   "outputs": [],
   "source": [
    "intensity_quantity = int(max_intensity)+1\n",
    "\n",
    "total_pixels = rows*columns"
   ]
  },
  {
   "cell_type": "markdown",
   "metadata": {},
   "source": [
    "* Adding 1 to max intensity_quantity due to python indexing\n",
    "* Calculating matrix total pixels multiplying rows and columns"
   ]
  },
  {
   "cell_type": "markdown",
   "metadata": {},
   "source": [
    "#### Counting Intensities:"
   ]
  },
  {
   "cell_type": "code",
   "execution_count": 5,
   "metadata": {},
   "outputs": [],
   "source": [
    "r = np.zeros(intensity_quantity, int) #Initializing intensity vector\n",
    "\n",
    "for k in range(len(r)):\n",
    "    r[k] = np.count_nonzero(matrix == k)"
   ]
  },
  {
   "cell_type": "markdown",
   "metadata": {},
   "source": [
    "* Here we count each desired intensity level present in the intensity matrix\n",
    "    * e.g: When k == 0, we are counting the occourences of the intensity level 0. The total occourences of that level is stored in position 0 of the r vector, that stores all the quantities.\n",
    "    * [numpy.count_nonzero](https://numpy.org/doc/stable/reference/generated/numpy.count_nonzero.html)"
   ]
  },
  {
   "cell_type": "markdown",
   "metadata": {},
   "source": [
    "#### Calculating probabilities and CDF:"
   ]
  },
  {
   "cell_type": "code",
   "execution_count": 6,
   "metadata": {},
   "outputs": [],
   "source": [
    "r_prob = r/total_pixels\n",
    "\n",
    "cdf = np.cumsum(r_prob)"
   ]
  },
  {
   "cell_type": "markdown",
   "metadata": {},
   "source": [
    "* To calculate each intensity level probability we just divide the entire r vector by the total number of pixels\n",
    "* Then we calculate the CDF using the numpy function cumsum, that return the cumulative sum of the elements along a given axis\n",
    "    * [numpy.cumsum](https://numpy.org/doc/stable/reference/generated/numpy.cumsum.html?highlight=cumsum)\n",
    "   "
   ]
  },
  {
   "cell_type": "markdown",
   "metadata": {},
   "source": [
    "### Building Mapping:"
   ]
  },
  {
   "cell_type": "code",
   "execution_count": 7,
   "metadata": {},
   "outputs": [],
   "source": [
    "eq_map = np.arange(0,intensity_quantity,1,int)\n",
    "\n",
    "for l in range(intensity_quantity):\n",
    "    eq_map[l] = np.ceil(int(max_intensity)*cdf[l])"
   ]
  },
  {
   "cell_type": "markdown",
   "metadata": {},
   "source": [
    "* First we build a new vector that will contain the new equalizated map\n",
    "* Then we calculate the new equalizated map values by multiplying the max intensity by the cdf value of each intensity"
   ]
  },
  {
   "cell_type": "markdown",
   "metadata": {},
   "source": [
    "### Mapping the new values:"
   ]
  },
  {
   "cell_type": "code",
   "execution_count": 8,
   "metadata": {},
   "outputs": [],
   "source": [
    "new_matrix = np.array(matrix)\n",
    "for iz in range(intensity_quantity):\n",
    "    new_matrix = np.where(matrix != iz, new_matrix, eq_map[iz])"
   ]
  },
  {
   "cell_type": "markdown",
   "metadata": {},
   "source": [
    "* To map the new values we initialize a new matrix\n",
    "* Then we refresh the values for all intensities using the funcion numpy.where\n",
    "    * Where the matrix value is different from the desired intensity value (matrix != iz) we don't update the values\n",
    "    * Then in all other valid positions we update the value according the new equalizated map\n",
    "    * [numpy.where](https://numpy.org/doc/stable/reference/generated/numpy.where.html?highlight=where#numpy.where)"
   ]
  },
  {
   "cell_type": "markdown",
   "metadata": {},
   "source": [
    "### Writing the new file:"
   ]
  },
  {
   "cell_type": "code",
   "execution_count": 9,
   "metadata": {},
   "outputs": [
    {
     "name": "stdout",
     "output_type": "stream",
     "text": [
      "Saving new file: \n",
      "\n",
      "Output filename:Lena_equalizada\n"
     ]
    }
   ],
   "source": [
    "my_writeimage()"
   ]
  },
  {
   "cell_type": "markdown",
   "metadata": {},
   "source": [
    "### Counting new matrix intensities:"
   ]
  },
  {
   "cell_type": "code",
   "execution_count": 10,
   "metadata": {},
   "outputs": [],
   "source": [
    "r_eq = np.zeros(intensity_quantity, int) #Initializing intensity vector\n",
    "\n",
    "for h in range(len(r_eq)):\n",
    "    r_eq[h] = np.count_nonzero(new_matrix == h)"
   ]
  },
  {
   "cell_type": "markdown",
   "metadata": {},
   "source": [
    "### Plotting histograms:"
   ]
  },
  {
   "cell_type": "code",
   "execution_count": 11,
   "metadata": {},
   "outputs": [
    {
     "data": {
      "image/png": "[encoded data removed]",
      "text/plain": [
       "<Figure size 432x288 with 1 Axes>"
      ]
     },
     "metadata": {
      "needs_background": "light"
     },
     "output_type": "display_data"
    },
    {
     "data": {
      "image/png": "[encoded data removed]",
      "text/plain": [
       "<Figure size 432x288 with 1 Axes>"
      ]
     },
     "metadata": {
      "needs_background": "light"
     },
     "output_type": "display_data"
    }
   ],
   "source": [
    "y = np.arange(0,intensity_quantity,1,int)\n",
    "plt.bar(y,r)\n",
    "plt.title('Original Histogram')\n",
    "plt.figure()    \n",
    "plt.bar(y,r_eq)\n",
    "plt.title('Equalized Histogram')\n",
    "plt.show()"
   ]
  }
 ],
 "metadata": {
  "kernelspec": {
   "display_name": "Python 3",
   "language": "python",
   "name": "python3"
  },
  "language_info": {
   "codemirror_mode": {
    "name": "ipython",
    "version": 3
   },
   "file_extension": ".py",
   "mimetype": "text/x-python",
   "name": "python",
   "nbconvert_exporter": "python",
   "pygments_lexer": "ipython3",
   "version": "3.7.6"
  }
 },
 "nbformat": 4,
 "nbformat_minor": 4
}
